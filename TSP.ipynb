{
 "cells": [
  {
   "cell_type": "code",
   "execution_count": 53,
   "id": "be6d4f23",
   "metadata": {},
   "outputs": [],
   "source": [
    "from sys import maxsize\n",
    "from itertools import permutations"
   ]
  },
  {
   "cell_type": "code",
   "execution_count": 54,
   "id": "23f423b9",
   "metadata": {},
   "outputs": [],
   "source": [
    "V=4\n"
   ]
  },
  {
   "cell_type": "code",
   "execution_count": 55,
   "id": "c7545250",
   "metadata": {},
   "outputs": [],
   "source": [
    "def travellingSalesmanProblem(graph,s):\n",
    "    vertex=[]\n",
    "    for i in range(V):\n",
    "        if i!=s:\n",
    "            vertex.append(i)\n",
    "    \n",
    "    min_path=maxsize\n",
    "    perms=permutations(vertex)\n",
    "    \n",
    "    for i in perms:\n",
    "        \n",
    "        current_pathweight=0\n",
    "        \n",
    "        k=s\n",
    "        for j in i:\n",
    "            current_pathweight+=graph[k][j]\n",
    "            k=j\n",
    "            \n",
    "        current_pathweight+=graph[k][s]\n",
    "        \n",
    "        min_path=min(min_path,current_pathweight)\n",
    "        \n",
    "    return min_path"
   ]
  },
  {
   "cell_type": "code",
   "execution_count": 56,
   "id": "1be38962",
   "metadata": {},
   "outputs": [
    {
     "name": "stdout",
     "output_type": "stream",
     "text": [
      "80\n"
     ]
    }
   ],
   "source": [
    "if __name__ == \"__main__\":\n",
    "    \n",
    "    graph = [[0, 10, 15, 20], \n",
    "             [10, 0, 35, 25], \n",
    "             [15, 35, 0, 30], \n",
    "             [20, 25, 30, 0]]\n",
    "    print(travellingSalesmanProblem(graph,0))"
   ]
  },
  {
   "cell_type": "code",
   "execution_count": null,
   "id": "1bfd6e8a",
   "metadata": {},
   "outputs": [],
   "source": []
  }
 ],
 "metadata": {
  "kernelspec": {
   "display_name": "Python 3 (ipykernel)",
   "language": "python",
   "name": "python3"
  },
  "language_info": {
   "codemirror_mode": {
    "name": "ipython",
    "version": 3
   },
   "file_extension": ".py",
   "mimetype": "text/x-python",
   "name": "python",
   "nbconvert_exporter": "python",
   "pygments_lexer": "ipython3",
   "version": "3.11.5"
  }
 },
 "nbformat": 4,
 "nbformat_minor": 5
}
