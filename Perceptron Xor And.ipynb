{
 "cells": [
  {
   "cell_type": "code",
   "execution_count": 5,
   "id": "c96b0b22",
   "metadata": {},
   "outputs": [
    {
     "name": "stdout",
     "output_type": "stream",
     "text": [
      "AND ->\n",
      "AND(0, 0) -> 0\n",
      "AND(0, 1) -> 0\n",
      "AND(1, 0) -> 0\n",
      "AND(1, 1) -> 1\n",
      "XOR ->\n",
      "XOR(0, 0) -> 0\n",
      "XOR(0, 1) -> 1\n",
      "XOR(1, 0) -> 1\n",
      "XOR(1, 1) -> 0\n"
     ]
    }
   ],
   "source": [
    "import numpy as np\n",
    "\n",
    "def unitStep(v):\n",
    "    if v>0:\n",
    "        return 1\n",
    "    else:\n",
    "        return 0\n",
    "    \n",
    "def perceptronModel(x,w,b):\n",
    "    v=np.dot(x,w)+b\n",
    "    y=unitStep(v)\n",
    "    return y\n",
    "\n",
    "def NOT(x):\n",
    "    w_not=-1\n",
    "    b_not=0.5\n",
    "    return perceptronModel(x,w_not,b_not)\n",
    "\n",
    "def AND(x):\n",
    "    w=np.array([1,1])\n",
    "    b_and=-1.5\n",
    "    return perceptronModel(x,w,b_and)\n",
    "\n",
    "def OR(x):\n",
    "    w=np.array([1,1])\n",
    "    b_or=-0.5\n",
    "    return perceptronModel(x,w,b_or)\n",
    "    \n",
    "def XOR(x):\n",
    "    and_value=AND(x)\n",
    "    or_value=OR(x)\n",
    "    nand_value=NOT(and_value)\n",
    "    final_x=np.array([or_value,nand_value])\n",
    "    xor=AND(final_x)\n",
    "    return xor\n",
    "\n",
    "test1=np.array([0,0])\n",
    "test2=np.array([0,1])\n",
    "test3=np.array([1,0])\n",
    "test4=np.array([1,1])\n",
    "\n",
    "print(\"AND ->\")\n",
    "print(\"AND({}, {}) -> {}\".format(0,0,AND(test1)))\n",
    "print(\"AND({}, {}) -> {}\".format(0,1,AND(test2)))\n",
    "print(\"AND({}, {}) -> {}\".format(1,0,AND(test3)))\n",
    "print(\"AND({}, {}) -> {}\".format(1,1,AND(test4)))\n",
    "\n",
    "print(\"XOR ->\")\n",
    "print(\"XOR({}, {}) -> {}\".format(0,0,XOR(test1)))\n",
    "print(\"XOR({}, {}) -> {}\".format(0,1,XOR(test2)))\n",
    "print(\"XOR({}, {}) -> {}\".format(1,0,XOR(test3)))\n",
    "print(\"XOR({}, {}) -> {}\".format(1,1,XOR(test4)))"
   ]
  },
  {
   "cell_type": "code",
   "execution_count": null,
   "id": "fc65470f",
   "metadata": {},
   "outputs": [],
   "source": []
  }
 ],
 "metadata": {
  "kernelspec": {
   "display_name": "Python 3 (ipykernel)",
   "language": "python",
   "name": "python3"
  },
  "language_info": {
   "codemirror_mode": {
    "name": "ipython",
    "version": 3
   },
   "file_extension": ".py",
   "mimetype": "text/x-python",
   "name": "python",
   "nbconvert_exporter": "python",
   "pygments_lexer": "ipython3",
   "version": "3.11.5"
  }
 },
 "nbformat": 4,
 "nbformat_minor": 5
}
