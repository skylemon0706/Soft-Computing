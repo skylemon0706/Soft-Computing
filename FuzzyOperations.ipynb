{
 "cells": [
  {
   "cell_type": "code",
   "execution_count": 1,
   "id": "b173c2c2",
   "metadata": {},
   "outputs": [
    {
     "name": "stdout",
     "output_type": "stream",
     "text": [
      "enter number of key-value pairs for each set\n",
      "2\n"
     ]
    }
   ],
   "source": [
    "num_inputs=int(input(\"enter number of key-value pairs for each set\\n\"))\n",
    "\n",
    "def dict_input():\n",
    "    user_dict={}\n",
    "    for i in range(num_inputs):\n",
    "        key=input(\"Enter key:\")\n",
    "        value=input(\"Enter value: \")\n",
    "        user_dict[key]=value\n",
    "    return user_dict"
   ]
  },
  {
   "cell_type": "code",
   "execution_count": 2,
   "id": "a6e175e3",
   "metadata": {},
   "outputs": [
    {
     "name": "stdout",
     "output_type": "stream",
     "text": [
      "Enter set A\n",
      "Enter key:a\n",
      "Enter value: 0.5\n",
      "Enter key:b\n",
      "Enter value: 0.4\n",
      "{'a': '0.5', 'b': '0.4'}\n",
      "Enter set B\n",
      "Enter key:c\n",
      "Enter value: 0.4\n",
      "Enter key:d\n",
      "Enter value: 0.8\n",
      "{'c': '0.4', 'd': '0.8'}\n"
     ]
    }
   ],
   "source": [
    "print(\"Enter set A\")\n",
    "A=dict_input()\n",
    "print(A)\n",
    "print(\"Enter set B\")\n",
    "B=dict_input()\n",
    "print(B)"
   ]
  },
  {
   "cell_type": "code",
   "execution_count": 17,
   "id": "e4fc1b90",
   "metadata": {},
   "outputs": [
    {
     "data": {
      "text/plain": [
       "{'a': 0.5, 'c': 0.4, 'd': 0.8, 'b': 0.4}"
      ]
     },
     "execution_count": 17,
     "metadata": {},
     "output_type": "execute_result"
    }
   ],
   "source": [
    "def fuzzy_union(A,B):\n",
    "    union={}\n",
    "    all_elements= set(A.keys())|set(B.keys())\n",
    "    for i in all_elements:\n",
    "        val1=A.get(i,0)\n",
    "        val2=B.get(i,0)\n",
    "        union[i]=max(float(val1),float(val2))\n",
    "    return union\n",
    "\n",
    "fuzzy_union(A,B)"
   ]
  },
  {
   "cell_type": "code",
   "execution_count": 18,
   "id": "e5e4b553",
   "metadata": {},
   "outputs": [
    {
     "data": {
      "text/plain": [
       "{}"
      ]
     },
     "execution_count": 18,
     "metadata": {},
     "output_type": "execute_result"
    }
   ],
   "source": [
    "def fuzzy_intersection(A,B):\n",
    "    intersection={}\n",
    "    common_elements= set(A.keys())&set(B.keys())\n",
    "    for i in common_elements:\n",
    "        intersection[i]=min(float(A[i]),float(B[i]))\n",
    "    return intersection\n",
    "fuzzy_intersection(A,B)"
   ]
  },
  {
   "cell_type": "code",
   "execution_count": 19,
   "id": "c77fef5d",
   "metadata": {},
   "outputs": [
    {
     "data": {
      "text/plain": [
       "{'c': '0.60', 'd': '0.20'}"
      ]
     },
     "execution_count": 19,
     "metadata": {},
     "output_type": "execute_result"
    }
   ],
   "source": [
    "def fuzzy_complement(A):\n",
    "    complement={}\n",
    "    for i in A:\n",
    "        x= 1- float(A[i])\n",
    "        complement[i]=\"{:.2f}\".format(x)\n",
    "    return complement\n",
    "\n",
    "fuzzy_complement(B)"
   ]
  },
  {
   "cell_type": "code",
   "execution_count": 22,
   "id": "a76599db",
   "metadata": {},
   "outputs": [
    {
     "data": {
      "text/plain": [
       "{('a', 'c'): 0.4, ('a', 'd'): 0.5, ('b', 'c'): 0.4, ('b', 'd'): 0.4}"
      ]
     },
     "execution_count": 22,
     "metadata": {},
     "output_type": "execute_result"
    }
   ],
   "source": [
    "def cartesian_product(A,B):\n",
    "    cartesian_product={}\n",
    "    \n",
    "    for key1,value1 in A.items():\n",
    "        for key2,value2 in B.items():\n",
    "            cartesian_product[(key1,key2)]=min(float(value1),float(value2))\n",
    "    return cartesian_product\n",
    "\n",
    "cartesian_product(A,B)"
   ]
  },
  {
   "cell_type": "code",
   "execution_count": null,
   "id": "a84f496d",
   "metadata": {},
   "outputs": [],
   "source": []
  }
 ],
 "metadata": {
  "kernelspec": {
   "display_name": "Python 3 (ipykernel)",
   "language": "python",
   "name": "python3"
  },
  "language_info": {
   "codemirror_mode": {
    "name": "ipython",
    "version": 3
   },
   "file_extension": ".py",
   "mimetype": "text/x-python",
   "name": "python",
   "nbconvert_exporter": "python",
   "pygments_lexer": "ipython3",
   "version": "3.11.5"
  }
 },
 "nbformat": 4,
 "nbformat_minor": 5
}
